{
  "nbformat": 4,
  "nbformat_minor": 0,
  "metadata": {
    "colab": {
      "name": "DWDM_Final.ipynb",
      "provenance": [],
      "collapsed_sections": [
        "TkRm6YU-kBJH",
        "RqjIwqaBkGHh",
        "MivIYDxBkPw1",
        "d7w5quqJJx1D",
        "MSrjg-s-KgV8",
        "wDQgEFv0KjZK",
        "Fb0o3feCK-g6",
        "HEhUrjjrLSFF",
        "5imetd2bL5rK",
        "jkK6W2L3MB-y",
        "Sk6oEn7XAlF5",
        "vfvbqci-BPSo",
        "6h4P5Q2JBVyg",
        "GttI2uhLBdrx",
        "mMDx5OQdBwSM",
        "aeHQ0zcCkwaZ",
        "4527E-Zqk1us",
        "gUrgv61nlQZE",
        "ZGNSwyPNlX8k",
        "kBGqlzfdm9Uu",
        "SeBKbYhsnPqL",
        "Yu3wNz8gnZqz",
        "CPDlbve8n3PD",
        "_Mf5uOaToxe6",
        "AyBV8Yh-o-Xf",
        "yHqwlit_rLkz",
        "W2KZ7Q2KrXEj",
        "cyOIChSgrcPZ",
        "wUNGdlv_r1-c",
        "tweM-XrXsGU4",
        "ZQ4ak5QksTYk",
        "YzNJMIgLs08Z",
        "dBpDWLFgrlGj",
        "Tr8fad_3rvvD",
        "Jr1hKWYpyjqX",
        "4_FN-c6uzL5P"
      ]
    },
    "kernelspec": {
      "name": "python3",
      "display_name": "Python 3"
    }
  },
  "cells": [
    {
      "cell_type": "markdown",
      "metadata": {
        "id": "TkRm6YU-kBJH"
      },
      "source": [
        "# Import"
      ]
    },
    {
      "cell_type": "code",
      "metadata": {
        "id": "igdb6tAZj4ah",
        "colab": {
          "base_uri": "https://localhost:8080/"
        },
        "outputId": "510dddf4-0abd-4322-b943-34a3240462ff"
      },
      "source": [
        "import pandas as pd\r\n",
        "import matplotlib.pyplot as plt\r\n",
        "import re\r\n",
        "import time\r\n",
        "import warnings\r\n",
        "import numpy as np\r\n",
        "import nltk\r\n",
        "import spacy\r\n",
        "from nltk.corpus import stopwords\r\n",
        "import string\r\n",
        "from nltk.corpus import stopwords\r\n",
        "from sklearn.decomposition import TruncatedSVD\r\n",
        "from sklearn.preprocessing import normalize\r\n",
        "from sklearn.feature_extraction.text import CountVectorizer\r\n",
        "from sklearn.manifold import TSNE\r\n",
        "import seaborn as sns\r\n",
        "from sklearn.neighbors import KNeighborsClassifier\r\n",
        "from sklearn.metrics import confusion_matrix\r\n",
        "from sklearn.metrics.classification import accuracy_score, log_loss\r\n",
        "from sklearn.feature_extraction.text import TfidfVectorizer\r\n",
        "from sklearn.linear_model import SGDClassifier\r\n",
        "from imblearn.over_sampling import SMOTE\r\n",
        "from collections import Counter\r\n",
        "from scipy.sparse import hstack\r\n",
        "from sklearn.multiclass import OneVsRestClassifier\r\n",
        "from sklearn.svm import SVC\r\n",
        "from sklearn.feature_extraction import text\r\n",
        "from collections import Counter, defaultdict\r\n",
        "from sklearn.calibration import CalibratedClassifierCV\r\n",
        "from sklearn.naive_bayes import MultinomialNB\r\n",
        "from sklearn.naive_bayes import GaussianNB\r\n",
        "from sklearn.model_selection import train_test_split\r\n",
        "from sklearn.model_selection import GridSearchCV\r\n",
        "import math\r\n",
        "import pandas as pd\r\n",
        "import numpy as np\r\n",
        "from sklearn.preprocessing import StandardScaler\r\n",
        "from sklearn.model_selection import train_test_split\r\n",
        "from sklearn.tree import DecisionTreeClassifier\r\n",
        "from sklearn.model_selection import cross_val_score, cross_val_predict\r\n",
        "from sklearn.metrics import accuracy_score, classification_report, confusion_matrix\r\n",
        "from sklearn.ensemble import BaggingClassifier\r\n",
        "from sklearn.ensemble import RandomForestClassifier\r\n",
        "from sklearn.ensemble import AdaBoostClassifier\r\n",
        "from sklearn.ensemble import GradientBoostingClassifier\r\n",
        "from sklearn.linear_model import LogisticRegression\r\n",
        "import xgboost as xgb\r\n",
        "from nltk.corpus import stopwords\r\n",
        "from sklearn.tree import DecisionTreeClassifier\r\n",
        "from sklearn.metrics import accuracy_score\r\n",
        "from sklearn.metrics import classification_report\r\n",
        "from sklearn.metrics import confusion_matrix\r\n",
        "from sklearn.metrics import normalized_mutual_info_score\r\n",
        "from sklearn.ensemble import RandomForestClassifier\r\n",
        "from nltk.corpus import wordnet\r\n",
        "from nltk.corpus import stopwords\r\n",
        "from nltk.stem import WordNetLemmatizer\r\n",
        "import pandas as pd\r\n",
        "from collections import Counter, defaultdict\r\n",
        "import re\r\n",
        "from math import log\r\n",
        "warnings.filterwarnings(\"ignore\")\r\n",
        "from mlxtend.classifier import StackingClassifier\r\n",
        "from sklearn import model_selection\r\n",
        "from sklearn.linear_model import LogisticRegression\r\n",
        "from sklearn.metrics import precision_score, recall_score, confusion_matrix, classification_report, accuracy_score, f1_score"
      ],
      "execution_count": 1,
      "outputs": [
        {
          "output_type": "stream",
          "text": [
            "/usr/local/lib/python3.6/dist-packages/sklearn/utils/deprecation.py:144: FutureWarning: The sklearn.metrics.classification module is  deprecated in version 0.22 and will be removed in version 0.24. The corresponding classes / functions should instead be imported from sklearn.metrics. Anything that cannot be imported from sklearn.metrics is now part of the private API.\n",
            "  warnings.warn(message, FutureWarning)\n",
            "/usr/local/lib/python3.6/dist-packages/sklearn/externals/six.py:31: FutureWarning: The module is deprecated in version 0.21 and will be removed in version 0.23 since we've dropped support for Python 2.7. Please rely on the official version of six (https://pypi.org/project/six/).\n",
            "  \"(https://pypi.org/project/six/).\", FutureWarning)\n",
            "/usr/local/lib/python3.6/dist-packages/sklearn/utils/deprecation.py:144: FutureWarning: The sklearn.neighbors.base module is  deprecated in version 0.22 and will be removed in version 0.24. The corresponding classes / functions should instead be imported from sklearn.neighbors. Anything that cannot be imported from sklearn.neighbors is now part of the private API.\n",
            "  warnings.warn(message, FutureWarning)\n"
          ],
          "name": "stderr"
        }
      ]
    },
    {
      "cell_type": "markdown",
      "metadata": {
        "id": "RqjIwqaBkGHh"
      },
      "source": [
        "# Data Import"
      ]
    },
    {
      "cell_type": "code",
      "metadata": {
        "id": "NQQsUyWvkH_2"
      },
      "source": [
        "## Data Import\r\n",
        "dataset_news = pd.read_csv(\"/content/Combined_News_DJIA.csv\")"
      ],
      "execution_count": 2,
      "outputs": []
    },
    {
      "cell_type": "code",
      "metadata": {
        "id": "9HzCJBnBkMwW"
      },
      "source": [
        "## Merge all columns into one text\r\n",
        "\r\n",
        "for col in dataset_news.columns:\r\n",
        "  if(col != 'Date' or col != 'Label'):\r\n",
        "    dataset_news[col] = dataset_news[col].astype(str)\r\n",
        "df = pd.DataFrame(dataset_news.iloc[:,2:].apply(lambda x: ''.join(x), axis=1), columns = ['text'])"
      ],
      "execution_count": 3,
      "outputs": []
    },
    {
      "cell_type": "code",
      "metadata": {
        "id": "L2T6pBOHIrXG"
      },
      "source": [
        "df['Date'] = dataset_news['Date']\r\n",
        "df['Label'] = dataset_news['Label']"
      ],
      "execution_count": 4,
      "outputs": []
    },
    {
      "cell_type": "code",
      "metadata": {
        "id": "YveSKHgkDml4"
      },
      "source": [
        "df2=pd.read_csv(\"upload_DJIA_table.csv\")"
      ],
      "execution_count": 5,
      "outputs": []
    },
    {
      "cell_type": "code",
      "metadata": {
        "id": "ba8OilQKDnNQ"
      },
      "source": [
        "df = df.merge(df2,on=\"Date\")"
      ],
      "execution_count": 6,
      "outputs": []
    },
    {
      "cell_type": "code",
      "metadata": {
        "colab": {
          "base_uri": "https://localhost:8080/",
          "height": 0
        },
        "id": "QBUTANbeJM26",
        "outputId": "a305ac70-4151-4c46-c262-bae3036d79a0"
      },
      "source": [
        "df.head()"
      ],
      "execution_count": 7,
      "outputs": [
        {
          "output_type": "execute_result",
          "data": {
            "text/html": [
              "<div>\n",
              "<style scoped>\n",
              "    .dataframe tbody tr th:only-of-type {\n",
              "        vertical-align: middle;\n",
              "    }\n",
              "\n",
              "    .dataframe tbody tr th {\n",
              "        vertical-align: top;\n",
              "    }\n",
              "\n",
              "    .dataframe thead th {\n",
              "        text-align: right;\n",
              "    }\n",
              "</style>\n",
              "<table border=\"1\" class=\"dataframe\">\n",
              "  <thead>\n",
              "    <tr style=\"text-align: right;\">\n",
              "      <th></th>\n",
              "      <th>text</th>\n",
              "      <th>Date</th>\n",
              "      <th>Label</th>\n",
              "      <th>Open</th>\n",
              "      <th>High</th>\n",
              "      <th>Low</th>\n",
              "      <th>Close</th>\n",
              "      <th>Volume</th>\n",
              "      <th>Adj Close</th>\n",
              "    </tr>\n",
              "  </thead>\n",
              "  <tbody>\n",
              "    <tr>\n",
              "      <th>0</th>\n",
              "      <td>b\"Georgia 'downs two Russian warplanes' as cou...</td>\n",
              "      <td>2008-08-08</td>\n",
              "      <td>0</td>\n",
              "      <td>11432.089844</td>\n",
              "      <td>11759.959961</td>\n",
              "      <td>11388.040039</td>\n",
              "      <td>11734.320312</td>\n",
              "      <td>212830000</td>\n",
              "      <td>11734.320312</td>\n",
              "    </tr>\n",
              "    <tr>\n",
              "      <th>1</th>\n",
              "      <td>b'Why wont America and Nato help us? If they w...</td>\n",
              "      <td>2008-08-11</td>\n",
              "      <td>1</td>\n",
              "      <td>11729.669922</td>\n",
              "      <td>11867.110352</td>\n",
              "      <td>11675.530273</td>\n",
              "      <td>11782.349609</td>\n",
              "      <td>183190000</td>\n",
              "      <td>11782.349609</td>\n",
              "    </tr>\n",
              "    <tr>\n",
              "      <th>2</th>\n",
              "      <td>b'Remember that adorable 9-year-old who sang a...</td>\n",
              "      <td>2008-08-12</td>\n",
              "      <td>0</td>\n",
              "      <td>11781.700195</td>\n",
              "      <td>11782.349609</td>\n",
              "      <td>11601.519531</td>\n",
              "      <td>11642.469727</td>\n",
              "      <td>173590000</td>\n",
              "      <td>11642.469727</td>\n",
              "    </tr>\n",
              "    <tr>\n",
              "      <th>3</th>\n",
              "      <td>b' U.S. refuses Israel weapons to attack Iran:...</td>\n",
              "      <td>2008-08-13</td>\n",
              "      <td>0</td>\n",
              "      <td>11632.809570</td>\n",
              "      <td>11633.780273</td>\n",
              "      <td>11453.339844</td>\n",
              "      <td>11532.959961</td>\n",
              "      <td>182550000</td>\n",
              "      <td>11532.959961</td>\n",
              "    </tr>\n",
              "    <tr>\n",
              "      <th>4</th>\n",
              "      <td>b'All the experts admit that we should legalis...</td>\n",
              "      <td>2008-08-14</td>\n",
              "      <td>1</td>\n",
              "      <td>11532.070312</td>\n",
              "      <td>11718.280273</td>\n",
              "      <td>11450.889648</td>\n",
              "      <td>11615.929688</td>\n",
              "      <td>159790000</td>\n",
              "      <td>11615.929688</td>\n",
              "    </tr>\n",
              "  </tbody>\n",
              "</table>\n",
              "</div>"
            ],
            "text/plain": [
              "                                                text  ...     Adj Close\n",
              "0  b\"Georgia 'downs two Russian warplanes' as cou...  ...  11734.320312\n",
              "1  b'Why wont America and Nato help us? If they w...  ...  11782.349609\n",
              "2  b'Remember that adorable 9-year-old who sang a...  ...  11642.469727\n",
              "3  b' U.S. refuses Israel weapons to attack Iran:...  ...  11532.959961\n",
              "4  b'All the experts admit that we should legalis...  ...  11615.929688\n",
              "\n",
              "[5 rows x 9 columns]"
            ]
          },
          "metadata": {
            "tags": []
          },
          "execution_count": 7
        }
      ]
    },
    {
      "cell_type": "markdown",
      "metadata": {
        "id": "MivIYDxBkPw1"
      },
      "source": [
        "# Data Description"
      ]
    },
    {
      "cell_type": "code",
      "metadata": {
        "colab": {
          "base_uri": "https://localhost:8080/"
        },
        "id": "ksygpVjGIxbL",
        "outputId": "8a91db45-1e79-4819-ba32-dad827f51753"
      },
      "source": [
        "df['Label'].value_counts()"
      ],
      "execution_count": 8,
      "outputs": [
        {
          "output_type": "execute_result",
          "data": {
            "text/plain": [
              "1    1065\n",
              "0     924\n",
              "Name: Label, dtype: int64"
            ]
          },
          "metadata": {
            "tags": []
          },
          "execution_count": 8
        }
      ]
    },
    {
      "cell_type": "code",
      "metadata": {
        "colab": {
          "base_uri": "https://localhost:8080/"
        },
        "id": "8FajoW5xGZld",
        "outputId": "a1830b66-7439-4517-8a05-fe5aad20389c"
      },
      "source": [
        "df.skew()"
      ],
      "execution_count": 9,
      "outputs": [
        {
          "output_type": "execute_result",
          "data": {
            "text/plain": [
              "Label       -0.142245\n",
              "Open        -0.072689\n",
              "High        -0.063396\n",
              "Low         -0.083832\n",
              "Close       -0.074162\n",
              "Volume       1.957286\n",
              "Adj Close   -0.074162\n",
              "dtype: float64"
            ]
          },
          "metadata": {
            "tags": []
          },
          "execution_count": 9
        }
      ]
    },
    {
      "cell_type": "code",
      "metadata": {
        "colab": {
          "base_uri": "https://localhost:8080/"
        },
        "id": "52_Qyr_1Ilmv",
        "outputId": "f78deed4-2367-44d3-c566-673ad9b0d563"
      },
      "source": [
        "df_1 = np.log(df['Volume'])\r\n",
        "df_1.skew()"
      ],
      "execution_count": 10,
      "outputs": [
        {
          "output_type": "execute_result",
          "data": {
            "text/plain": [
              "0.38884125033864353"
            ]
          },
          "metadata": {
            "tags": []
          },
          "execution_count": 10
        }
      ]
    },
    {
      "cell_type": "code",
      "metadata": {
        "colab": {
          "base_uri": "https://localhost:8080/"
        },
        "id": "Xsebd0U8JLxD",
        "outputId": "1dcf3990-bdac-4548-ff59-ef08333e06c4"
      },
      "source": [
        "df_2 = np.sqrt(df['Volume'])\r\n",
        "df_2.skew()"
      ],
      "execution_count": 11,
      "outputs": [
        {
          "output_type": "execute_result",
          "data": {
            "text/plain": [
              "1.1797953854158747"
            ]
          },
          "metadata": {
            "tags": []
          },
          "execution_count": 11
        }
      ]
    },
    {
      "cell_type": "code",
      "metadata": {
        "colab": {
          "base_uri": "https://localhost:8080/"
        },
        "id": "s-fCcO8kJr-_",
        "outputId": "d95cd550-4121-4416-fc27-8bcc54f805c3"
      },
      "source": [
        "from scipy import stats\r\n",
        "df_3 = stats.boxcox(df['Volume'])[0]\r\n",
        "pd.Series(df_3).skew()"
      ],
      "execution_count": 12,
      "outputs": [
        {
          "output_type": "execute_result",
          "data": {
            "text/plain": [
              "-0.04567243702113367"
            ]
          },
          "metadata": {
            "tags": []
          },
          "execution_count": 12
        }
      ]
    },
    {
      "cell_type": "code",
      "metadata": {
        "id": "sThPIzpcKton"
      },
      "source": [
        "df['Volume'] = pd.Series(df_3)"
      ],
      "execution_count": 13,
      "outputs": []
    },
    {
      "cell_type": "code",
      "metadata": {
        "colab": {
          "base_uri": "https://localhost:8080/"
        },
        "id": "cFL-X1g2k4vi",
        "outputId": "95e6f1fe-7abd-4a43-96d1-e53c7c865d65"
      },
      "source": [
        "#Checking Class imbalance problem\r\n",
        "df['Label'].value_counts()"
      ],
      "execution_count": 14,
      "outputs": [
        {
          "output_type": "execute_result",
          "data": {
            "text/plain": [
              "1    1065\n",
              "0     924\n",
              "Name: Label, dtype: int64"
            ]
          },
          "metadata": {
            "tags": []
          },
          "execution_count": 14
        }
      ]
    },
    {
      "cell_type": "code",
      "metadata": {
        "colab": {
          "base_uri": "https://localhost:8080/",
          "height": 0
        },
        "id": "wrZ3ceetNF5M",
        "outputId": "09a90a1e-e212-4bd7-e7f3-a72c8bb3d0e5"
      },
      "source": [
        "df.head()"
      ],
      "execution_count": 15,
      "outputs": [
        {
          "output_type": "execute_result",
          "data": {
            "text/html": [
              "<div>\n",
              "<style scoped>\n",
              "    .dataframe tbody tr th:only-of-type {\n",
              "        vertical-align: middle;\n",
              "    }\n",
              "\n",
              "    .dataframe tbody tr th {\n",
              "        vertical-align: top;\n",
              "    }\n",
              "\n",
              "    .dataframe thead th {\n",
              "        text-align: right;\n",
              "    }\n",
              "</style>\n",
              "<table border=\"1\" class=\"dataframe\">\n",
              "  <thead>\n",
              "    <tr style=\"text-align: right;\">\n",
              "      <th></th>\n",
              "      <th>text</th>\n",
              "      <th>Date</th>\n",
              "      <th>Label</th>\n",
              "      <th>Open</th>\n",
              "      <th>High</th>\n",
              "      <th>Low</th>\n",
              "      <th>Close</th>\n",
              "      <th>Volume</th>\n",
              "      <th>Adj Close</th>\n",
              "    </tr>\n",
              "  </thead>\n",
              "  <tbody>\n",
              "    <tr>\n",
              "      <th>0</th>\n",
              "      <td>b\"Georgia 'downs two Russian warplanes' as cou...</td>\n",
              "      <td>2008-08-08</td>\n",
              "      <td>0</td>\n",
              "      <td>11432.089844</td>\n",
              "      <td>11759.959961</td>\n",
              "      <td>11388.040039</td>\n",
              "      <td>11734.320312</td>\n",
              "      <td>4.904904</td>\n",
              "      <td>11734.320312</td>\n",
              "    </tr>\n",
              "    <tr>\n",
              "      <th>1</th>\n",
              "      <td>b'Why wont America and Nato help us? If they w...</td>\n",
              "      <td>2008-08-11</td>\n",
              "      <td>1</td>\n",
              "      <td>11729.669922</td>\n",
              "      <td>11867.110352</td>\n",
              "      <td>11675.530273</td>\n",
              "      <td>11782.349609</td>\n",
              "      <td>4.901580</td>\n",
              "      <td>11782.349609</td>\n",
              "    </tr>\n",
              "    <tr>\n",
              "      <th>2</th>\n",
              "      <td>b'Remember that adorable 9-year-old who sang a...</td>\n",
              "      <td>2008-08-12</td>\n",
              "      <td>0</td>\n",
              "      <td>11781.700195</td>\n",
              "      <td>11782.349609</td>\n",
              "      <td>11601.519531</td>\n",
              "      <td>11642.469727</td>\n",
              "      <td>4.900362</td>\n",
              "      <td>11642.469727</td>\n",
              "    </tr>\n",
              "    <tr>\n",
              "      <th>3</th>\n",
              "      <td>b' U.S. refuses Israel weapons to attack Iran:...</td>\n",
              "      <td>2008-08-13</td>\n",
              "      <td>0</td>\n",
              "      <td>11632.809570</td>\n",
              "      <td>11633.780273</td>\n",
              "      <td>11453.339844</td>\n",
              "      <td>11532.959961</td>\n",
              "      <td>4.901501</td>\n",
              "      <td>11532.959961</td>\n",
              "    </tr>\n",
              "    <tr>\n",
              "      <th>4</th>\n",
              "      <td>b'All the experts admit that we should legalis...</td>\n",
              "      <td>2008-08-14</td>\n",
              "      <td>1</td>\n",
              "      <td>11532.070312</td>\n",
              "      <td>11718.280273</td>\n",
              "      <td>11450.889648</td>\n",
              "      <td>11615.929688</td>\n",
              "      <td>4.898463</td>\n",
              "      <td>11615.929688</td>\n",
              "    </tr>\n",
              "  </tbody>\n",
              "</table>\n",
              "</div>"
            ],
            "text/plain": [
              "                                                text  ...     Adj Close\n",
              "0  b\"Georgia 'downs two Russian warplanes' as cou...  ...  11734.320312\n",
              "1  b'Why wont America and Nato help us? If they w...  ...  11782.349609\n",
              "2  b'Remember that adorable 9-year-old who sang a...  ...  11642.469727\n",
              "3  b' U.S. refuses Israel weapons to attack Iran:...  ...  11532.959961\n",
              "4  b'All the experts admit that we should legalis...  ...  11615.929688\n",
              "\n",
              "[5 rows x 9 columns]"
            ]
          },
          "metadata": {
            "tags": []
          },
          "execution_count": 15
        }
      ]
    },
    {
      "cell_type": "code",
      "metadata": {
        "colab": {
          "base_uri": "https://localhost:8080/"
        },
        "id": "aIk4V-CKOWNY",
        "outputId": "1ac67be7-122c-49d3-9fa1-9682a02d2031"
      },
      "source": [
        "uniqueValues=df['Adj Close'].nunique()\n",
        "uniqueValues"
      ],
      "execution_count": 16,
      "outputs": [
        {
          "output_type": "execute_result",
          "data": {
            "text/plain": [
              "1978"
            ]
          },
          "metadata": {
            "tags": []
          },
          "execution_count": 16
        }
      ]
    },
    {
      "cell_type": "code",
      "metadata": {
        "id": "4rEZ4S7ykO0t",
        "colab": {
          "base_uri": "https://localhost:8080/",
          "height": 0
        },
        "outputId": "62016874-fd5b-4a75-c054-ccd3dc9fb2f7"
      },
      "source": [
        "#Number of words in each sentence\r\n",
        "\r\n",
        "df['text_count'] = df['text'].apply(lambda x: len(str(x).split(\" \")))\r\n",
        "df[['text','text_count']].sort_values(by = 'text_count' , ascending = False).head()"
      ],
      "execution_count": 17,
      "outputs": [
        {
          "output_type": "execute_result",
          "data": {
            "text/html": [
              "<div>\n",
              "<style scoped>\n",
              "    .dataframe tbody tr th:only-of-type {\n",
              "        vertical-align: middle;\n",
              "    }\n",
              "\n",
              "    .dataframe tbody tr th {\n",
              "        vertical-align: top;\n",
              "    }\n",
              "\n",
              "    .dataframe thead th {\n",
              "        text-align: right;\n",
              "    }\n",
              "</style>\n",
              "<table border=\"1\" class=\"dataframe\">\n",
              "  <thead>\n",
              "    <tr style=\"text-align: right;\">\n",
              "      <th></th>\n",
              "      <th>text</th>\n",
              "      <th>text_count</th>\n",
              "    </tr>\n",
              "  </thead>\n",
              "  <tbody>\n",
              "    <tr>\n",
              "      <th>276</th>\n",
              "      <td>b'in Canada the drug czar slams Harper gov\\'t ...</td>\n",
              "      <td>697</td>\n",
              "    </tr>\n",
              "    <tr>\n",
              "      <th>544</th>\n",
              "      <td>Australian study: the only effect of legalizin...</td>\n",
              "      <td>667</td>\n",
              "    </tr>\n",
              "    <tr>\n",
              "      <th>1254</th>\n",
              "      <td>Germany nixes surveillance pact with US, Brita...</td>\n",
              "      <td>654</td>\n",
              "    </tr>\n",
              "    <tr>\n",
              "      <th>604</th>\n",
              "      <td>Julian Assange Threatens To Name Arab Leaders ...</td>\n",
              "      <td>649</td>\n",
              "    </tr>\n",
              "    <tr>\n",
              "      <th>908</th>\n",
              "      <td>Chinese official proposes death penalty as det...</td>\n",
              "      <td>647</td>\n",
              "    </tr>\n",
              "  </tbody>\n",
              "</table>\n",
              "</div>"
            ],
            "text/plain": [
              "                                                   text  text_count\n",
              "276   b'in Canada the drug czar slams Harper gov\\'t ...         697\n",
              "544   Australian study: the only effect of legalizin...         667\n",
              "1254  Germany nixes surveillance pact with US, Brita...         654\n",
              "604   Julian Assange Threatens To Name Arab Leaders ...         649\n",
              "908   Chinese official proposes death penalty as det...         647"
            ]
          },
          "metadata": {
            "tags": []
          },
          "execution_count": 17
        }
      ]
    },
    {
      "cell_type": "code",
      "metadata": {
        "colab": {
          "base_uri": "https://localhost:8080/",
          "height": 0
        },
        "id": "3D5jx9tZkgNO",
        "outputId": "73408d0a-4987-447b-cfec-e2509378566e"
      },
      "source": [
        "# Number of characters\r\n",
        "\r\n",
        "df['text_count'] = df['text'].str.len() \r\n",
        "df[['text','text_count']].sort_values(by = 'text_count' , ascending = False).head()"
      ],
      "execution_count": 18,
      "outputs": [
        {
          "output_type": "execute_result",
          "data": {
            "text/html": [
              "<div>\n",
              "<style scoped>\n",
              "    .dataframe tbody tr th:only-of-type {\n",
              "        vertical-align: middle;\n",
              "    }\n",
              "\n",
              "    .dataframe tbody tr th {\n",
              "        vertical-align: top;\n",
              "    }\n",
              "\n",
              "    .dataframe thead th {\n",
              "        text-align: right;\n",
              "    }\n",
              "</style>\n",
              "<table border=\"1\" class=\"dataframe\">\n",
              "  <thead>\n",
              "    <tr style=\"text-align: right;\">\n",
              "      <th></th>\n",
              "      <th>text</th>\n",
              "      <th>text_count</th>\n",
              "    </tr>\n",
              "  </thead>\n",
              "  <tbody>\n",
              "    <tr>\n",
              "      <th>276</th>\n",
              "      <td>b'in Canada the drug czar slams Harper gov\\'t ...</td>\n",
              "      <td>4400</td>\n",
              "    </tr>\n",
              "    <tr>\n",
              "      <th>1254</th>\n",
              "      <td>Germany nixes surveillance pact with US, Brita...</td>\n",
              "      <td>4285</td>\n",
              "    </tr>\n",
              "    <tr>\n",
              "      <th>604</th>\n",
              "      <td>Julian Assange Threatens To Name Arab Leaders ...</td>\n",
              "      <td>4237</td>\n",
              "    </tr>\n",
              "    <tr>\n",
              "      <th>544</th>\n",
              "      <td>Australian study: the only effect of legalizin...</td>\n",
              "      <td>4148</td>\n",
              "    </tr>\n",
              "    <tr>\n",
              "      <th>908</th>\n",
              "      <td>Chinese official proposes death penalty as det...</td>\n",
              "      <td>4099</td>\n",
              "    </tr>\n",
              "  </tbody>\n",
              "</table>\n",
              "</div>"
            ],
            "text/plain": [
              "                                                   text  text_count\n",
              "276   b'in Canada the drug czar slams Harper gov\\'t ...        4400\n",
              "1254  Germany nixes surveillance pact with US, Brita...        4285\n",
              "604   Julian Assange Threatens To Name Arab Leaders ...        4237\n",
              "544   Australian study: the only effect of legalizin...        4148\n",
              "908   Chinese official proposes death penalty as det...        4099"
            ]
          },
          "metadata": {
            "tags": []
          },
          "execution_count": 18
        }
      ]
    },
    {
      "cell_type": "code",
      "metadata": {
        "colab": {
          "base_uri": "https://localhost:8080/",
          "height": 0
        },
        "id": "468OXiY2kiNt",
        "outputId": "a84a2ae1-11b5-400e-af3f-ff6d0dd18931"
      },
      "source": [
        "#Average Word Length\r\n",
        "def avg_word(sentence):\r\n",
        "  words = sentence.split()\r\n",
        "  return (sum(len(word) for word in words)/len(words))\r\n",
        "\r\n",
        "df['text_count'] = df['text'].apply(lambda x: avg_word(x))\r\n",
        "df[['text','text_count']].sort_values(by = 'text_count' , ascending = False).head()"
      ],
      "execution_count": 19,
      "outputs": [
        {
          "output_type": "execute_result",
          "data": {
            "text/html": [
              "<div>\n",
              "<style scoped>\n",
              "    .dataframe tbody tr th:only-of-type {\n",
              "        vertical-align: middle;\n",
              "    }\n",
              "\n",
              "    .dataframe tbody tr th {\n",
              "        vertical-align: top;\n",
              "    }\n",
              "\n",
              "    .dataframe thead th {\n",
              "        text-align: right;\n",
              "    }\n",
              "</style>\n",
              "<table border=\"1\" class=\"dataframe\">\n",
              "  <thead>\n",
              "    <tr style=\"text-align: right;\">\n",
              "      <th></th>\n",
              "      <th>text</th>\n",
              "      <th>text_count</th>\n",
              "    </tr>\n",
              "  </thead>\n",
              "  <tbody>\n",
              "    <tr>\n",
              "      <th>14</th>\n",
              "      <td>b\"Military help for Georgia is a 'declaration ...</td>\n",
              "      <td>6.553398</td>\n",
              "    </tr>\n",
              "    <tr>\n",
              "      <th>23</th>\n",
              "      <td>b'American intelligence confirms that the late...</td>\n",
              "      <td>6.542986</td>\n",
              "    </tr>\n",
              "    <tr>\n",
              "      <th>50</th>\n",
              "      <td>b'Coke Dealers Badass Party House w/ Private Z...</td>\n",
              "      <td>6.521569</td>\n",
              "    </tr>\n",
              "    <tr>\n",
              "      <th>34</th>\n",
              "      <td>b'Japanese space tourist paid Space Adventures...</td>\n",
              "      <td>6.440816</td>\n",
              "    </tr>\n",
              "    <tr>\n",
              "      <th>15</th>\n",
              "      <td>b'Russian Prime Minister Vladimir Putin has ac...</td>\n",
              "      <td>6.411290</td>\n",
              "    </tr>\n",
              "  </tbody>\n",
              "</table>\n",
              "</div>"
            ],
            "text/plain": [
              "                                                 text  text_count\n",
              "14  b\"Military help for Georgia is a 'declaration ...    6.553398\n",
              "23  b'American intelligence confirms that the late...    6.542986\n",
              "50  b'Coke Dealers Badass Party House w/ Private Z...    6.521569\n",
              "34  b'Japanese space tourist paid Space Adventures...    6.440816\n",
              "15  b'Russian Prime Minister Vladimir Putin has ac...    6.411290"
            ]
          },
          "metadata": {
            "tags": []
          },
          "execution_count": 19
        }
      ]
    },
    {
      "cell_type": "code",
      "metadata": {
        "colab": {
          "base_uri": "https://localhost:8080/"
        },
        "id": "6-zBZLWVkkjO",
        "outputId": "f6a291ec-5c44-4aa4-bf7f-b8c7f1fcb8d2"
      },
      "source": [
        "from nltk.corpus import stopwords\r\n",
        "nltk.download(\"stopwords\")"
      ],
      "execution_count": 20,
      "outputs": [
        {
          "output_type": "stream",
          "text": [
            "[nltk_data] Downloading package stopwords to /root/nltk_data...\n",
            "[nltk_data]   Unzipping corpora/stopwords.zip.\n"
          ],
          "name": "stdout"
        },
        {
          "output_type": "execute_result",
          "data": {
            "text/plain": [
              "True"
            ]
          },
          "metadata": {
            "tags": []
          },
          "execution_count": 20
        }
      ]
    },
    {
      "cell_type": "code",
      "metadata": {
        "colab": {
          "base_uri": "https://localhost:8080/",
          "height": 0
        },
        "id": "QFKtrHeskodl",
        "outputId": "9f5237ca-38d9-4520-c0fc-485b710b2997"
      },
      "source": [
        "# Number of stopwords\r\n",
        "stop = set(stopwords.words('english'))\r\n",
        "df['text_count'] = df['text'].apply(lambda x: len([x for x in x.split() if x in stop]))\r\n",
        "df[['text','text_count']].sort_values(by = 'text_count' , ascending = False).head()"
      ],
      "execution_count": 21,
      "outputs": [
        {
          "output_type": "execute_result",
          "data": {
            "text/html": [
              "<div>\n",
              "<style scoped>\n",
              "    .dataframe tbody tr th:only-of-type {\n",
              "        vertical-align: middle;\n",
              "    }\n",
              "\n",
              "    .dataframe tbody tr th {\n",
              "        vertical-align: top;\n",
              "    }\n",
              "\n",
              "    .dataframe thead th {\n",
              "        text-align: right;\n",
              "    }\n",
              "</style>\n",
              "<table border=\"1\" class=\"dataframe\">\n",
              "  <thead>\n",
              "    <tr style=\"text-align: right;\">\n",
              "      <th></th>\n",
              "      <th>text</th>\n",
              "      <th>text_count</th>\n",
              "    </tr>\n",
              "  </thead>\n",
              "  <tbody>\n",
              "    <tr>\n",
              "      <th>312</th>\n",
              "      <td>b'Unbelievable Video of Iranian Police beating...</td>\n",
              "      <td>237</td>\n",
              "    </tr>\n",
              "    <tr>\n",
              "      <th>276</th>\n",
              "      <td>b'in Canada the drug czar slams Harper gov\\'t ...</td>\n",
              "      <td>232</td>\n",
              "    </tr>\n",
              "    <tr>\n",
              "      <th>544</th>\n",
              "      <td>Australian study: the only effect of legalizin...</td>\n",
              "      <td>228</td>\n",
              "    </tr>\n",
              "    <tr>\n",
              "      <th>275</th>\n",
              "      <td>b'8.7 million North Koreans are starving: \"The...</td>\n",
              "      <td>223</td>\n",
              "    </tr>\n",
              "    <tr>\n",
              "      <th>301</th>\n",
              "      <td>b'A Lithuanian dad shot dead a judge and a sen...</td>\n",
              "      <td>217</td>\n",
              "    </tr>\n",
              "  </tbody>\n",
              "</table>\n",
              "</div>"
            ],
            "text/plain": [
              "                                                  text  text_count\n",
              "312  b'Unbelievable Video of Iranian Police beating...         237\n",
              "276  b'in Canada the drug czar slams Harper gov\\'t ...         232\n",
              "544  Australian study: the only effect of legalizin...         228\n",
              "275  b'8.7 million North Koreans are starving: \"The...         223\n",
              "301  b'A Lithuanian dad shot dead a judge and a sen...         217"
            ]
          },
          "metadata": {
            "tags": []
          },
          "execution_count": 21
        }
      ]
    },
    {
      "cell_type": "code",
      "metadata": {
        "colab": {
          "base_uri": "https://localhost:8080/",
          "height": 0
        },
        "id": "PUYO3NvkksJ9",
        "outputId": "cd369a23-671c-4fa5-fe81-675caa73e927"
      },
      "source": [
        "#Numericals\r\n",
        "df['text_count'] = df['text'].apply(lambda x: len([x for x in x.split() if x.isdigit()]))\r\n",
        "df[['text','text_count']].sort_values(by = 'text_count' , ascending = False).head()"
      ],
      "execution_count": 22,
      "outputs": [
        {
          "output_type": "execute_result",
          "data": {
            "text/html": [
              "<div>\n",
              "<style scoped>\n",
              "    .dataframe tbody tr th:only-of-type {\n",
              "        vertical-align: middle;\n",
              "    }\n",
              "\n",
              "    .dataframe tbody tr th {\n",
              "        vertical-align: top;\n",
              "    }\n",
              "\n",
              "    .dataframe thead th {\n",
              "        text-align: right;\n",
              "    }\n",
              "</style>\n",
              "<table border=\"1\" class=\"dataframe\">\n",
              "  <thead>\n",
              "    <tr style=\"text-align: right;\">\n",
              "      <th></th>\n",
              "      <th>text</th>\n",
              "      <th>text_count</th>\n",
              "    </tr>\n",
              "  </thead>\n",
              "  <tbody>\n",
              "    <tr>\n",
              "      <th>353</th>\n",
              "      <td>b'New airport scanners break child porn laws'b...</td>\n",
              "      <td>14</td>\n",
              "    </tr>\n",
              "    <tr>\n",
              "      <th>946</th>\n",
              "      <td>Colombia passes 1st draft of drug crop legaliz...</td>\n",
              "      <td>13</td>\n",
              "    </tr>\n",
              "    <tr>\n",
              "      <th>1103</th>\n",
              "      <td>Mexico Bishop Inspires, Infuriates by Telling ...</td>\n",
              "      <td>12</td>\n",
              "    </tr>\n",
              "    <tr>\n",
              "      <th>43</th>\n",
              "      <td>b'The Bush administration this month is quietl...</td>\n",
              "      <td>12</td>\n",
              "    </tr>\n",
              "    <tr>\n",
              "      <th>279</th>\n",
              "      <td>b'They promised each other that if one died, t...</td>\n",
              "      <td>12</td>\n",
              "    </tr>\n",
              "  </tbody>\n",
              "</table>\n",
              "</div>"
            ],
            "text/plain": [
              "                                                   text  text_count\n",
              "353   b'New airport scanners break child porn laws'b...          14\n",
              "946   Colombia passes 1st draft of drug crop legaliz...          13\n",
              "1103  Mexico Bishop Inspires, Infuriates by Telling ...          12\n",
              "43    b'The Bush administration this month is quietl...          12\n",
              "279   b'They promised each other that if one died, t...          12"
            ]
          },
          "metadata": {
            "tags": []
          },
          "execution_count": 22
        }
      ]
    },
    {
      "cell_type": "code",
      "metadata": {
        "id": "nc0R4zyDkuX9"
      },
      "source": [
        "df = df.drop(['text_count'] , axis = 1)"
      ],
      "execution_count": 23,
      "outputs": []
    },
    {
      "cell_type": "markdown",
      "metadata": {
        "id": "d7w5quqJJx1D"
      },
      "source": [
        "# Genrating NA values randomly(1% in each column)"
      ]
    },
    {
      "cell_type": "code",
      "metadata": {
        "id": "zv472ZVSJ6MX"
      },
      "source": [
        "df['Volume']=df['Volume'].astype(float)"
      ],
      "execution_count": 24,
      "outputs": []
    },
    {
      "cell_type": "code",
      "metadata": {
        "id": "QZFFVfCoKFOd"
      },
      "source": [
        "cols=['Open','High','Low','Close','Volume','Adj Close']\r\n",
        "df[cols]=df[cols].mask(np.random.random(df[cols].shape) < 0.01)"
      ],
      "execution_count": 25,
      "outputs": []
    },
    {
      "cell_type": "code",
      "metadata": {
        "colab": {
          "base_uri": "https://localhost:8080/"
        },
        "id": "fpjzlAClKaQD",
        "outputId": "7fcbb8d4-989f-40c2-bf02-587f1b55640e"
      },
      "source": [
        "df.isnull().sum()"
      ],
      "execution_count": 26,
      "outputs": [
        {
          "output_type": "execute_result",
          "data": {
            "text/plain": [
              "text          0\n",
              "Date          0\n",
              "Label         0\n",
              "Open         26\n",
              "High         19\n",
              "Low          16\n",
              "Close        28\n",
              "Volume       25\n",
              "Adj Close    18\n",
              "dtype: int64"
            ]
          },
          "metadata": {
            "tags": []
          },
          "execution_count": 26
        }
      ]
    },
    {
      "cell_type": "markdown",
      "metadata": {
        "id": "MSrjg-s-KgV8"
      },
      "source": [
        "# Dropping NA"
      ]
    },
    {
      "cell_type": "code",
      "metadata": {
        "id": "fU_ObLZVKd7F"
      },
      "source": [
        "#dropping NA values\r\n",
        "df = df.dropna()"
      ],
      "execution_count": 27,
      "outputs": []
    },
    {
      "cell_type": "markdown",
      "metadata": {
        "id": "wDQgEFv0KjZK"
      },
      "source": [
        "# Filling with mean"
      ]
    },
    {
      "cell_type": "code",
      "metadata": {
        "id": "IjYUoLdBKvIT"
      },
      "source": [
        "for i in cols :\r\n",
        "  df[i] = df[i].fillna(df[i].mean())"
      ],
      "execution_count": 28,
      "outputs": []
    },
    {
      "cell_type": "markdown",
      "metadata": {
        "id": "Fb0o3feCK-g6"
      },
      "source": [
        "# KNN Imputer"
      ]
    },
    {
      "cell_type": "code",
      "metadata": {
        "id": "7HnKIH1vK-Di"
      },
      "source": [
        "from sklearn.impute import KNNImputer\r\n",
        "imputer = KNNImputer(n_neighbors=5, weights='uniform', metric='nan_euclidean')\r\n",
        "\r\n",
        "for i in cols :\r\n",
        "  imputer.fit(df[[i]])\r\n",
        "  df[[i]] = imputer.transform(df[[i]])"
      ],
      "execution_count": 29,
      "outputs": []
    },
    {
      "cell_type": "markdown",
      "metadata": {
        "id": "HEhUrjjrLSFF"
      },
      "source": [
        "# Filling with Median"
      ]
    },
    {
      "cell_type": "code",
      "metadata": {
        "id": "7WXlbD3fLRnK"
      },
      "source": [
        "for i in cols :\r\n",
        "  df[i] = df[i].fillna(df[i].median())"
      ],
      "execution_count": 30,
      "outputs": []
    },
    {
      "cell_type": "markdown",
      "metadata": {
        "id": "5imetd2bL5rK"
      },
      "source": [
        "# Forward filling"
      ]
    },
    {
      "cell_type": "code",
      "metadata": {
        "id": "o3QdygBkMBgq"
      },
      "source": [
        "df=df.ffill(axis = 'rows') "
      ],
      "execution_count": 31,
      "outputs": []
    },
    {
      "cell_type": "markdown",
      "metadata": {
        "id": "jkK6W2L3MB-y"
      },
      "source": [
        "# Backward Filling"
      ]
    },
    {
      "cell_type": "code",
      "metadata": {
        "id": "SUB9M0WzMEmL"
      },
      "source": [
        "df=df.bfill(axis = 'rows')"
      ],
      "execution_count": 32,
      "outputs": []
    },
    {
      "cell_type": "markdown",
      "metadata": {
        "id": "Sk6oEn7XAlF5"
      },
      "source": [
        "# Remove outliner using Z - score"
      ]
    },
    {
      "cell_type": "code",
      "metadata": {
        "id": "V0cvpNDtAkhD"
      },
      "source": [
        "from scipy import stats\r\n",
        "\r\n",
        "clmns=['Open','High','Low','Close','Volume','Adj Close']\r\n",
        "for i in clmns :\r\n",
        "  z=np.abs(stats.zscore(df[i]))\r\n",
        "  df=df[(z< 3)]"
      ],
      "execution_count": 34,
      "outputs": []
    },
    {
      "cell_type": "markdown",
      "metadata": {
        "id": "vfvbqci-BPSo"
      },
      "source": [
        "# Removing outliers using IQR"
      ]
    },
    {
      "cell_type": "code",
      "metadata": {
        "id": "-ewrHok_BTtY"
      },
      "source": [
        "clmns=['Open','High','Low','Close','Volume','Adj Close']\r\n",
        "for i in clmns :\r\n",
        "  Q1 = df[i].quantile(0.25)\r\n",
        "  Q3 = df[i].quantile(0.75)\r\n",
        "  IQR = Q3 - Q1\r\n",
        "  df = df[~((df[i] < (Q1 - 1.5 * IQR)) |(df[i] > (Q3 + 1.5 * IQR)))]"
      ],
      "execution_count": 35,
      "outputs": []
    },
    {
      "cell_type": "markdown",
      "metadata": {
        "id": "6h4P5Q2JBVyg"
      },
      "source": [
        "# Removing outliers using quantiles"
      ]
    },
    {
      "cell_type": "code",
      "metadata": {
        "id": "1Z3NQSgyBadi"
      },
      "source": [
        "clmns=['Open','High','Low','Close','Volume','Adj Close']\r\n",
        "for i in clmns :\r\n",
        "  removed_outliers = df[i].between(df[i].quantile(.05), df[i].quantile(.95))\r\n",
        "  index_names = df[~removed_outliers].index\r\n",
        "  df.drop(index_names, inplace=True)"
      ],
      "execution_count": 36,
      "outputs": []
    },
    {
      "cell_type": "markdown",
      "metadata": {
        "id": "GttI2uhLBdrx"
      },
      "source": [
        "# Normalization"
      ]
    },
    {
      "cell_type": "code",
      "metadata": {
        "id": "Mwqq3rqZBlc4"
      },
      "source": [
        "from sklearn.preprocessing import StandardScaler\r\n",
        "scaler=StandardScaler()\r\n",
        "scaler.fit(df[clmns])\r\n",
        "scaled_data = scaler.transform(df[clmns])"
      ],
      "execution_count": 38,
      "outputs": []
    },
    {
      "cell_type": "markdown",
      "metadata": {
        "id": "mMDx5OQdBwSM"
      },
      "source": [
        "#SMOTE analysis"
      ]
    },
    {
      "cell_type": "code",
      "metadata": {
        "colab": {
          "base_uri": "https://localhost:8080/"
        },
        "id": "eTYFuM22BoMY",
        "outputId": "2a061838-2aa1-4c72-f644-45b684fe372a"
      },
      "source": [
        "sm = SMOTE(random_state=42)\r\n",
        "X_res, y_res = sm.fit_resample(scaled_data, df['Label'])\r\n",
        "y_res = pd.DataFrame(y_res)\r\n",
        "print(y_res[0].value_counts())"
      ],
      "execution_count": 39,
      "outputs": [
        {
          "output_type": "stream",
          "text": [
            "0    534\n",
            "1    534\n",
            "Name: 0, dtype: int64\n"
          ],
          "name": "stdout"
        }
      ]
    },
    {
      "cell_type": "markdown",
      "metadata": {
        "id": "aeHQ0zcCkwaZ"
      },
      "source": [
        "# To Lowercase"
      ]
    },
    {
      "cell_type": "code",
      "metadata": {
        "id": "Y2pbQFMCkwCl"
      },
      "source": [
        "df['text'] = df['text'].str.lower()"
      ],
      "execution_count": 40,
      "outputs": []
    },
    {
      "cell_type": "markdown",
      "metadata": {
        "id": "4527E-Zqk1us"
      },
      "source": [
        "# Removal of Punctuations"
      ]
    },
    {
      "cell_type": "code",
      "metadata": {
        "colab": {
          "base_uri": "https://localhost:8080/"
        },
        "id": "86sIhG9Fk1Qt",
        "outputId": "fef75c14-69a8-4c0d-e2f8-f73034d23873"
      },
      "source": [
        "df['text'] = df['text'].str.replace('\\W', ' ')\r\n",
        "df.text = df.text.replace('\\s+', ' ', regex=True)\r\n",
        "df['text'].head()"
      ],
      "execution_count": 41,
      "outputs": [
        {
          "output_type": "execute_result",
          "data": {
            "text/plain": [
              "0    b georgia downs two russian warplanes as count...\n",
              "1    b why wont america and nato help us if they wo...\n",
              "2    b remember that adorable 9 year old who sang a...\n",
              "3    b u s refuses israel weapons to attack iran re...\n",
              "4    b all the experts admit that we should legalis...\n",
              "Name: text, dtype: object"
            ]
          },
          "metadata": {
            "tags": []
          },
          "execution_count": 41
        }
      ]
    },
    {
      "cell_type": "markdown",
      "metadata": {
        "id": "gUrgv61nlQZE"
      },
      "source": [
        "# Removal of Stopwords"
      ]
    },
    {
      "cell_type": "code",
      "metadata": {
        "colab": {
          "base_uri": "https://localhost:8080/"
        },
        "id": "MhFIcQvn5p8Y",
        "outputId": "00f02f2d-5911-4411-e918-1a6e6127fab0"
      },
      "source": [
        "nltk.download('stopwords')"
      ],
      "execution_count": 42,
      "outputs": [
        {
          "output_type": "stream",
          "text": [
            "[nltk_data] Downloading package stopwords to /root/nltk_data...\n",
            "[nltk_data]   Package stopwords is already up-to-date!\n"
          ],
          "name": "stdout"
        },
        {
          "output_type": "execute_result",
          "data": {
            "text/plain": [
              "True"
            ]
          },
          "metadata": {
            "tags": []
          },
          "execution_count": 42
        }
      ]
    },
    {
      "cell_type": "code",
      "metadata": {
        "colab": {
          "base_uri": "https://localhost:8080/"
        },
        "id": "_liL53EflP5l",
        "outputId": "6ddeedc1-603a-4ab3-d08d-fb1c3c6568da"
      },
      "source": [
        "STOPWORDS = set(stopwords.words('english'))\r\n",
        "def remove_stopwords(text):\r\n",
        "    return \" \".join([word for word in str(text).split() if word not in STOPWORDS])\r\n",
        "\r\n",
        "df[\"text\"] = df[\"text\"].apply(lambda text: remove_stopwords(text))\r\n",
        "df['text'].head()"
      ],
      "execution_count": 43,
      "outputs": [
        {
          "output_type": "execute_result",
          "data": {
            "text/plain": [
              "0    b georgia downs two russian warplanes countrie...\n",
              "1    b wont america nato help us wont help us help ...\n",
              "2    b remember adorable 9 year old sang opening ce...\n",
              "3    b u refuses israel weapons attack iran report ...\n",
              "4    b experts admit legalise drugs b war south ose...\n",
              "Name: text, dtype: object"
            ]
          },
          "metadata": {
            "tags": []
          },
          "execution_count": 43
        }
      ]
    },
    {
      "cell_type": "markdown",
      "metadata": {
        "id": "ZGNSwyPNlX8k"
      },
      "source": [
        "# Removal of numeric"
      ]
    },
    {
      "cell_type": "code",
      "metadata": {
        "colab": {
          "base_uri": "https://localhost:8080/"
        },
        "id": "koSxIZBDlapl",
        "outputId": "006be1d0-2b3f-4766-bb15-879b87912bbc"
      },
      "source": [
        "def remove_numericals(text):\r\n",
        "    return ''.join([i for i in text if not i.isdigit()])\r\n",
        "\r\n",
        "df[\"text\"] = df[\"text\"].apply(lambda text: remove_numericals(text))\r\n",
        "df['text'].head()"
      ],
      "execution_count": 44,
      "outputs": [
        {
          "output_type": "execute_result",
          "data": {
            "text/plain": [
              "0    b georgia downs two russian warplanes countrie...\n",
              "1    b wont america nato help us wont help us help ...\n",
              "2    b remember adorable  year old sang opening cer...\n",
              "3    b u refuses israel weapons attack iran report ...\n",
              "4    b experts admit legalise drugs b war south ose...\n",
              "Name: text, dtype: object"
            ]
          },
          "metadata": {
            "tags": []
          },
          "execution_count": 44
        }
      ]
    },
    {
      "cell_type": "markdown",
      "metadata": {
        "id": "kBGqlzfdm9Uu"
      },
      "source": [
        "# Stemming"
      ]
    },
    {
      "cell_type": "code",
      "metadata": {
        "id": "f2EskKPtnD1s"
      },
      "source": [
        "def stem_words(text,stemmer):\r\n",
        "    return \" \".join([stemmer.stem(word) for word in text.split()])"
      ],
      "execution_count": 45,
      "outputs": []
    },
    {
      "cell_type": "code",
      "metadata": {
        "id": "COX3nJK4nIzU"
      },
      "source": [
        "from nltk.stem.porter import PorterStemmer\r\n",
        "stemmer = PorterStemmer()\r\n",
        "df[\"text\"] = df[\"text\"].apply(lambda text: stem_words(text,stemmer))"
      ],
      "execution_count": 46,
      "outputs": []
    },
    {
      "cell_type": "code",
      "metadata": {
        "id": "wDLOKTaLnMab"
      },
      "source": [
        "from nltk.stem.snowball import SnowballStemmer\r\n",
        "stemmer = SnowballStemmer(\"english\")\r\n",
        "df[\"text\"] = df[\"text\"].apply(lambda text: stem_words(text,stemmer))"
      ],
      "execution_count": 47,
      "outputs": []
    },
    {
      "cell_type": "code",
      "metadata": {
        "id": "1HG_s0aOnOH0"
      },
      "source": [
        "from nltk.stem import LancasterStemmer\r\n",
        "stemmer = LancasterStemmer()\r\n",
        "df[\"text\"] = df[\"text\"].apply(lambda text: stem_words(text,stemmer))"
      ],
      "execution_count": 48,
      "outputs": []
    },
    {
      "cell_type": "markdown",
      "metadata": {
        "id": "SeBKbYhsnPqL"
      },
      "source": [
        "# Lemmatization"
      ]
    },
    {
      "cell_type": "code",
      "metadata": {
        "colab": {
          "base_uri": "https://localhost:8080/"
        },
        "id": "t_e0Z9UnnSFb",
        "outputId": "c4aa8668-64ce-4ae4-aaf2-e3d519f96e3b"
      },
      "source": [
        "from nltk.corpus import wordnet\r\n",
        "from nltk.stem import WordNetLemmatizer\r\n",
        "nltk.download('wordnet')\r\n",
        "nltk.download('averaged_perceptron_tagger')"
      ],
      "execution_count": 49,
      "outputs": [
        {
          "output_type": "stream",
          "text": [
            "[nltk_data] Downloading package wordnet to /root/nltk_data...\n",
            "[nltk_data]   Unzipping corpora/wordnet.zip.\n",
            "[nltk_data] Downloading package averaged_perceptron_tagger to\n",
            "[nltk_data]     /root/nltk_data...\n",
            "[nltk_data]   Unzipping taggers/averaged_perceptron_tagger.zip.\n"
          ],
          "name": "stdout"
        },
        {
          "output_type": "execute_result",
          "data": {
            "text/plain": [
              "True"
            ]
          },
          "metadata": {
            "tags": []
          },
          "execution_count": 49
        }
      ]
    },
    {
      "cell_type": "code",
      "metadata": {
        "id": "eheVH-oSnXLr"
      },
      "source": [
        "lemmatizer = WordNetLemmatizer()\r\n",
        "wordnet_map = {\"N\":wordnet.NOUN, \"V\":wordnet.VERB, \"J\":wordnet.ADJ, \"R\":wordnet.ADV}\r\n",
        "def lemmatize_words(text):\r\n",
        "    pos_tagged_text = nltk.pos_tag(text.split())\r\n",
        "    return \" \".join([lemmatizer.lemmatize(word, wordnet_map.get(pos[0], wordnet.NOUN)) for word, pos in pos_tagged_text])\r\n",
        "\r\n",
        "df[\"text\"] = df[\"text\"].apply(lambda text: lemmatize_words(text))"
      ],
      "execution_count": 50,
      "outputs": []
    },
    {
      "cell_type": "markdown",
      "metadata": {
        "id": "Yu3wNz8gnZqz"
      },
      "source": [
        "# Uni Gram Token"
      ]
    },
    {
      "cell_type": "code",
      "metadata": {
        "id": "pEps5z26nfBL"
      },
      "source": [
        "min_df = 0.01\r\n",
        "max_df = 0.95\r\n",
        "count_vec = CountVectorizer(ngram_range=(1,1) , min_df = min_df , max_df = max_df)"
      ],
      "execution_count": 51,
      "outputs": []
    },
    {
      "cell_type": "markdown",
      "metadata": {
        "id": "CPDlbve8n3PD"
      },
      "source": [
        "# Bi gram Tokens"
      ]
    },
    {
      "cell_type": "code",
      "metadata": {
        "id": "-Y7pKv8Qn6cz"
      },
      "source": [
        "min_df = 0.01\r\n",
        "max_df = 0.95\r\n",
        "count_vec = CountVectorizer(ngram_range=(2,2))"
      ],
      "execution_count": null,
      "outputs": []
    },
    {
      "cell_type": "markdown",
      "metadata": {
        "id": "_Mf5uOaToxe6"
      },
      "source": [
        "# Tri Gram Tokens"
      ]
    },
    {
      "cell_type": "code",
      "metadata": {
        "id": "NPVnYFWcoxBz"
      },
      "source": [
        "min_df = 0.01\r\n",
        "max_df = 0.95\r\n",
        "count_vec = CountVectorizer(ngram_range=(3,3),min_df = min_df , max_df = max_df)"
      ],
      "execution_count": null,
      "outputs": []
    },
    {
      "cell_type": "markdown",
      "metadata": {
        "id": "AyBV8Yh-o-Xf"
      },
      "source": [
        "# Test Train Split"
      ]
    },
    {
      "cell_type": "code",
      "metadata": {
        "id": "knCjIVHDpBV6"
      },
      "source": [
        "train = df[df['Date'] < '20150101']\r\n",
        "test = df[df['Date'] > '20141231']\r\n",
        "train = train.drop('Date' , axis = 1)\r\n",
        "test = test.drop('Date' , axis = 1)"
      ],
      "execution_count": 52,
      "outputs": []
    },
    {
      "cell_type": "code",
      "metadata": {
        "id": "wu6k6-CNpGGL"
      },
      "source": [
        "x_train_text = count_vec.fit_transform(train['text'])\r\n",
        "x_train_text_hot = pd.DataFrame(x_train_text.toarray() , columns = count_vec.get_feature_names())"
      ],
      "execution_count": 53,
      "outputs": []
    },
    {
      "cell_type": "code",
      "metadata": {
        "id": "kBgNv05PNlnl"
      },
      "source": [
        "x_test_text = count_vec.transform(test['text'])\r\n",
        "x_test_text_hot = pd.DataFrame(x_test_text.toarray() , columns = count_vec.get_feature_names())"
      ],
      "execution_count": 54,
      "outputs": []
    },
    {
      "cell_type": "code",
      "metadata": {
        "id": "hjmwB0cbTfJ3"
      },
      "source": [
        "train.reset_index(drop=True, inplace=True)\r\n",
        "x_train_text_hot.reset_index(drop=True, inplace=True)\r\n",
        "test.reset_index(drop=True, inplace=True)\r\n",
        "x_test_text_hot.reset_index(drop=True, inplace=True)    "
      ],
      "execution_count": 55,
      "outputs": []
    },
    {
      "cell_type": "code",
      "metadata": {
        "id": "vKiZ3bNBQfo7"
      },
      "source": [
        "frames = [train,x_train_text_hot]\r\n",
        "x_train = pd.concat(frames , axis = 1)"
      ],
      "execution_count": 56,
      "outputs": []
    },
    {
      "cell_type": "code",
      "metadata": {
        "id": "PW1nzVbTSFZh"
      },
      "source": [
        "frames = [test,x_test_text_hot]\r\n",
        "x_test = pd.concat(frames ,axis =1)"
      ],
      "execution_count": 57,
      "outputs": []
    },
    {
      "cell_type": "code",
      "metadata": {
        "id": "QhyVm6CFSS8M"
      },
      "source": [
        "x_train = x_train.drop(['text' , 'Label'] , axis = 1)\r\n",
        "x_test = x_test.drop(['text' , 'Label'] , axis = 1)"
      ],
      "execution_count": 58,
      "outputs": []
    },
    {
      "cell_type": "code",
      "metadata": {
        "id": "XJDGIvGMMaCp"
      },
      "source": [
        "y_train = train['Label'].astype('category')\r\n",
        "y_test = test['Label'].astype('category')"
      ],
      "execution_count": 59,
      "outputs": []
    },
    {
      "cell_type": "markdown",
      "metadata": {
        "id": "BKqOWqImppdj"
      },
      "source": [
        "# Classfication Algorithm"
      ]
    },
    {
      "cell_type": "code",
      "metadata": {
        "id": "21TcsjG7p6E1"
      },
      "source": [
        "def printCM(y_test,y_pred):\r\n",
        "  corr = confusion_matrix(y_test,y_pred)\r\n",
        "  sns.heatmap(corr , annot=True, fmt='.0f', cmap='GnBu', linewidth = 2)\r\n",
        "  plt.xlabel('Predicted Value')\r\n",
        "  plt.ylabel('True Value')\r\n",
        "  plt.show()"
      ],
      "execution_count": 60,
      "outputs": []
    },
    {
      "cell_type": "markdown",
      "metadata": {
        "id": "yHqwlit_rLkz"
      },
      "source": [
        "## KNN"
      ]
    },
    {
      "cell_type": "code",
      "metadata": {
        "colab": {
          "base_uri": "https://localhost:8080/",
          "height": 441
        },
        "id": "0b7lkmrXrNfD",
        "outputId": "cc06328c-4d76-4e0e-bcbd-e0b6ee391865"
      },
      "source": [
        "#KNN\r\n",
        "n = 5\r\n",
        "p = 2\r\n",
        "knn = KNeighborsClassifier(n_neighbors = n,p = p)\r\n",
        "knn.fit(x_train,y_train)\r\n",
        "y_pred = knn.predict(x_test)\r\n",
        "printCM(y_test,y_pred)\r\n",
        "print(classification_report(y_test,y_pred))\r\n",
        "recall_score(y_test,y_pred, pos_label='1')"
      ],
      "execution_count": 61,
      "outputs": [
        {
          "output_type": "display_data",
          "data": {
            "image/png": "[encoded data removed]",
            "text/plain": [
              "<Figure size 432x288 with 2 Axes>"
            ]
          },
          "metadata": {
            "tags": [],
            "needs_background": "light"
          }
        },
        {
          "output_type": "stream",
          "text": [
            "              precision    recall  f1-score   support\n",
            "\n",
            "           0       0.97      0.97      0.97        32\n",
            "           1       0.96      0.96      0.96        27\n",
            "\n",
            "    accuracy                           0.97        59\n",
            "   macro avg       0.97      0.97      0.97        59\n",
            "weighted avg       0.97      0.97      0.97        59\n",
            "\n"
          ],
          "name": "stdout"
        },
        {
          "output_type": "execute_result",
          "data": {
            "text/plain": [
              "0.9629629629629629"
            ]
          },
          "metadata": {
            "tags": []
          },
          "execution_count": 61
        }
      ]
    },
    {
      "cell_type": "markdown",
      "metadata": {
        "id": "W2KZ7Q2KrXEj"
      },
      "source": [
        "## Decision Tree"
      ]
    },
    {
      "cell_type": "code",
      "metadata": {
        "colab": {
          "base_uri": "https://localhost:8080/",
          "height": 441
        },
        "id": "vU56kKrtraAB",
        "outputId": "d77a5746-c7e7-4c99-a302-d1c351f3e652"
      },
      "source": [
        "criterion = 'gini'\r\n",
        "max_dept = 10\r\n",
        "\r\n",
        "DTC = DecisionTreeClassifier(max_depth = max_dept , criterion=criterion)\r\n",
        "DTC.fit(x_train,y_train)\r\n",
        "y_pred = DTC.predict(x_test)\r\n",
        "printCM(y_test,y_pred)\r\n",
        "print(classification_report(y_test,y_pred))\r\n",
        "recall_score(y_test,y_pred, pos_label='1')"
      ],
      "execution_count": 62,
      "outputs": [
        {
          "output_type": "display_data",
          "data": {
            "image/png": "[encoded data removed]",
            "text/plain": [
              "<Figure size 432x288 with 2 Axes>"
            ]
          },
          "metadata": {
            "tags": [],
            "needs_background": "light"
          }
        },
        {
          "output_type": "stream",
          "text": [
            "              precision    recall  f1-score   support\n",
            "\n",
            "           0       0.87      0.62      0.73        32\n",
            "           1       0.67      0.89      0.76        27\n",
            "\n",
            "    accuracy                           0.75        59\n",
            "   macro avg       0.77      0.76      0.74        59\n",
            "weighted avg       0.78      0.75      0.74        59\n",
            "\n"
          ],
          "name": "stdout"
        },
        {
          "output_type": "execute_result",
          "data": {
            "text/plain": [
              "0.8888888888888888"
            ]
          },
          "metadata": {
            "tags": []
          },
          "execution_count": 62
        }
      ]
    },
    {
      "cell_type": "markdown",
      "metadata": {
        "id": "cyOIChSgrcPZ"
      },
      "source": [
        "## Random Forest"
      ]
    },
    {
      "cell_type": "code",
      "metadata": {
        "id": "Vboo7FMNrftr",
        "colab": {
          "base_uri": "https://localhost:8080/",
          "height": 441
        },
        "outputId": "5c615a9a-edf7-4461-89ee-c656696c4edb"
      },
      "source": [
        "## Random Forest\r\n",
        "\r\n",
        "rfm = RandomForestClassifier(n_estimators=100)\r\n",
        "rfm.fit(x_train,y_train)\r\n",
        "y_pred = rfm.predict(x_test)\r\n",
        "printCM(y_test,y_pred)\r\n",
        "print(classification_report(y_test,y_pred))\r\n",
        "recall_score(y_test,y_pred, pos_label='1')"
      ],
      "execution_count": 63,
      "outputs": [
        {
          "output_type": "display_data",
          "data": {
            "image/png": "[encoded data removed]",
            "text/plain": [
              "<Figure size 432x288 with 2 Axes>"
            ]
          },
          "metadata": {
            "tags": [],
            "needs_background": "light"
          }
        },
        {
          "output_type": "stream",
          "text": [
            "              precision    recall  f1-score   support\n",
            "\n",
            "           0       0.88      0.66      0.75        32\n",
            "           1       0.69      0.89      0.77        27\n",
            "\n",
            "    accuracy                           0.76        59\n",
            "   macro avg       0.78      0.77      0.76        59\n",
            "weighted avg       0.79      0.76      0.76        59\n",
            "\n"
          ],
          "name": "stdout"
        },
        {
          "output_type": "execute_result",
          "data": {
            "text/plain": [
              "0.8888888888888888"
            ]
          },
          "metadata": {
            "tags": []
          },
          "execution_count": 63
        }
      ]
    },
    {
      "cell_type": "markdown",
      "metadata": {
        "id": "wUNGdlv_r1-c"
      },
      "source": [
        "## Meta Classfier Stacking - (RF + XGBoost + Logistics)"
      ]
    },
    {
      "cell_type": "code",
      "metadata": {
        "id": "5jjQmN27YUQF"
      },
      "source": [
        "import xgboost as xgb\r\n",
        "from xgboost import XGBClassifier"
      ],
      "execution_count": 64,
      "outputs": []
    },
    {
      "cell_type": "code",
      "metadata": {
        "colab": {
          "base_uri": "https://localhost:8080/",
          "height": 441
        },
        "id": "if7STwrOr_0B",
        "outputId": "c61bf95f-0080-4273-94b0-bbe8af46e8f3"
      },
      "source": [
        "from sklearn.ensemble import StackingClassifier\r\n",
        "estimators = [\r\n",
        "               ('rf', RandomForestClassifier(n_estimators=10, random_state=42)),\r\n",
        "               ('XG', XGBClassifier()),\r\n",
        "              ]\r\n",
        "clf = StackingClassifier(estimators=estimators, final_estimator=LogisticRegression())\r\n",
        "clf.fit(x_train, y_train)\r\n",
        "y_pred = clf.predict(x_test)\r\n",
        "printCM(y_test,y_pred)\r\n",
        "print(classification_report(y_test,y_pred))\r\n",
        "recall_score(y_test,y_pred, pos_label='1')"
      ],
      "execution_count": 65,
      "outputs": [
        {
          "output_type": "display_data",
          "data": {
            "image/png": "[encoded data removed]",
            "text/plain": [
              "<Figure size 432x288 with 2 Axes>"
            ]
          },
          "metadata": {
            "tags": [],
            "needs_background": "light"
          }
        },
        {
          "output_type": "stream",
          "text": [
            "              precision    recall  f1-score   support\n",
            "\n",
            "           0       0.00      0.00      0.00        32\n",
            "           1       0.35      0.63      0.45        27\n",
            "\n",
            "    accuracy                           0.29        59\n",
            "   macro avg       0.17      0.31      0.22        59\n",
            "weighted avg       0.16      0.29      0.20        59\n",
            "\n"
          ],
          "name": "stdout"
        },
        {
          "output_type": "execute_result",
          "data": {
            "text/plain": [
              "0.6296296296296297"
            ]
          },
          "metadata": {
            "tags": []
          },
          "execution_count": 65
        }
      ]
    },
    {
      "cell_type": "markdown",
      "metadata": {
        "id": "tweM-XrXsGU4"
      },
      "source": [
        "## Meta Classifier Stacking - (RF + NB + Logistics)"
      ]
    },
    {
      "cell_type": "code",
      "metadata": {
        "id": "DChzTYfYXb7V"
      },
      "source": [
        "import sklearn\r\n",
        "from sklearn.ensemble import StackingClassifier"
      ],
      "execution_count": 66,
      "outputs": []
    },
    {
      "cell_type": "code",
      "metadata": {
        "colab": {
          "base_uri": "https://localhost:8080/",
          "height": 441
        },
        "id": "OH0-OQeOsLf6",
        "outputId": "b1844bab-d5c4-45b4-f19b-2527ab1eb629"
      },
      "source": [
        "estimators = [('rf', RandomForestClassifier(n_estimators=10, random_state=42)),\r\n",
        "             ('NB', GaussianNB())]\r\n",
        "clf = StackingClassifier(estimators=estimators, final_estimator=LogisticRegression())\r\n",
        "clf.fit(x_train, y_train)\r\n",
        "y_pred = clf.predict(x_test)\r\n",
        "printCM(y_test,y_pred)\r\n",
        "print(classification_report(y_test,y_pred))\r\n",
        "recall_score(y_test,y_pred, pos_label='1')"
      ],
      "execution_count": 67,
      "outputs": [
        {
          "output_type": "display_data",
          "data": {
            "image/png": "[encoded data removed]",
            "text/plain": [
              "<Figure size 432x288 with 2 Axes>"
            ]
          },
          "metadata": {
            "tags": [],
            "needs_background": "light"
          }
        },
        {
          "output_type": "stream",
          "text": [
            "              precision    recall  f1-score   support\n",
            "\n",
            "           0       0.08      0.03      0.05        32\n",
            "           1       0.34      0.59      0.43        27\n",
            "\n",
            "    accuracy                           0.29        59\n",
            "   macro avg       0.21      0.31      0.24        59\n",
            "weighted avg       0.20      0.29      0.22        59\n",
            "\n"
          ],
          "name": "stdout"
        },
        {
          "output_type": "execute_result",
          "data": {
            "text/plain": [
              "0.5925925925925926"
            ]
          },
          "metadata": {
            "tags": []
          },
          "execution_count": 67
        }
      ]
    },
    {
      "cell_type": "markdown",
      "metadata": {
        "id": "ZQ4ak5QksTYk"
      },
      "source": [
        "## Meta Classifer Stacking - (KNN + Decsion Tree+GB + Logistics)"
      ]
    },
    {
      "cell_type": "code",
      "metadata": {
        "colab": {
          "base_uri": "https://localhost:8080/",
          "height": 441
        },
        "id": "bCzGJ6BOsbXN",
        "outputId": "1f6a45b9-ac93-4f26-ac71-0f0005bacef8"
      },
      "source": [
        "estimators = [\r\n",
        "               ('KNN', KNeighborsClassifier(n_neighbors = 5,p = 2)),\r\n",
        "               ('DT', DecisionTreeClassifier(max_depth = max_dept , criterion=criterion)),\r\n",
        "              ('GB' , GradientBoostingClassifier())\r\n",
        "              ]\r\n",
        "clf = StackingClassifier(estimators=estimators, final_estimator=LogisticRegression())\r\n",
        "clf.fit(x_train, y_train)\r\n",
        "y_pred = clf.predict(x_test)\r\n",
        "printCM(y_test,y_pred)\r\n",
        "print(classification_report(y_test,y_pred))\r\n",
        "recall_score(y_test,y_pred, pos_label='1')"
      ],
      "execution_count": 68,
      "outputs": [
        {
          "output_type": "display_data",
          "data": {
            "image/png": "[encoded data removed]",
            "text/plain": [
              "<Figure size 432x288 with 2 Axes>"
            ]
          },
          "metadata": {
            "tags": [],
            "needs_background": "light"
          }
        },
        {
          "output_type": "stream",
          "text": [
            "              precision    recall  f1-score   support\n",
            "\n",
            "           0       0.97      0.97      0.97        32\n",
            "           1       0.96      0.96      0.96        27\n",
            "\n",
            "    accuracy                           0.97        59\n",
            "   macro avg       0.97      0.97      0.97        59\n",
            "weighted avg       0.97      0.97      0.97        59\n",
            "\n"
          ],
          "name": "stdout"
        },
        {
          "output_type": "execute_result",
          "data": {
            "text/plain": [
              "0.9629629629629629"
            ]
          },
          "metadata": {
            "tags": []
          },
          "execution_count": 68
        }
      ]
    },
    {
      "cell_type": "markdown",
      "metadata": {
        "id": "YzNJMIgLs08Z"
      },
      "source": [
        "## Stratified K-Fold Cross Validation"
      ]
    },
    {
      "cell_type": "code",
      "metadata": {
        "id": "mNVqW5UZ6kCb"
      },
      "source": [
        "from sklearn.model_selection import StratifiedKFold\r\n",
        "from statistics import mean, stdev \r\n",
        "from sklearn import preprocessing "
      ],
      "execution_count": 69,
      "outputs": []
    },
    {
      "cell_type": "code",
      "metadata": {
        "id": "z8zZfi1Vt_cg"
      },
      "source": [
        "n = 10\r\n",
        "clf = RandomForestClassifier(n_estimators=100)"
      ],
      "execution_count": 70,
      "outputs": []
    },
    {
      "cell_type": "code",
      "metadata": {
        "colab": {
          "base_uri": "https://localhost:8080/"
        },
        "id": "b4kNj9cjs9r5",
        "outputId": "4a9eecd9-5335-4064-9cab-087a0f597aa6"
      },
      "source": [
        "skf = StratifiedKFold(n_splits=n, shuffle=True, random_state=1) \r\n",
        "lst_accu_stratified = [] \r\n",
        "   \r\n",
        "for train_index, test_index in skf.split(x_train,y_train): \r\n",
        "    x_train_fold, x_test_fold = x_train.iloc[train_index], x_train.iloc[test_index] \r\n",
        "    y_train_fold, y_test_fold = y_train.iloc[train_index], y_train.iloc[test_index] \r\n",
        "    clf.fit(x_train_fold, y_train_fold) \r\n",
        "    lst_accu_stratified.append(clf.score(x_test_fold, y_test_fold)) \r\n",
        "    \r\n",
        "print('List of possible accuracy:', lst_accu_stratified) \r\n",
        "print('\\nMaximum Accuracy That can be obtained from this model is:', \r\n",
        "      max(lst_accu_stratified)*100, '%') \r\n",
        "print('\\nMinimum Accuracy:', \r\n",
        "      min(lst_accu_stratified)*100, '%') \r\n",
        "print('\\nOverall Accuracy:', \r\n",
        "      mean(lst_accu_stratified)*100, '%') \r\n",
        "print('\\nStandard Deviation is:', stdev(lst_accu_stratified)) "
      ],
      "execution_count": 71,
      "outputs": [
        {
          "output_type": "stream",
          "text": [
            "List of possible accuracy: [0.49473684210526314, 0.5894736842105263, 0.5473684210526316, 0.5263157894736842, 0.49473684210526314, 0.5851063829787234, 0.5638297872340425, 0.574468085106383, 0.48936170212765956, 0.5]\n",
            "\n",
            "Maximum Accuracy That can be obtained from this model is: 58.94736842105262 %\n",
            "\n",
            "Minimum Accuracy: 48.93617021276596 %\n",
            "\n",
            "Overall Accuracy: 53.65397536394176 %\n",
            "\n",
            "Standard Deviation is: 0.04030674219821535\n"
          ],
          "name": "stdout"
        }
      ]
    },
    {
      "cell_type": "code",
      "metadata": {
        "colab": {
          "base_uri": "https://localhost:8080/",
          "height": 441
        },
        "id": "nUmQjkBMZ-NX",
        "outputId": "c05cacbe-c600-4ead-89ab-42363d139a79"
      },
      "source": [
        "y_pred = clf.predict(x_test)\r\n",
        "printCM(y_test,y_pred)\r\n",
        "print(classification_report(y_test,y_pred))\r\n",
        "recall_score(y_test,y_pred, pos_label='1')"
      ],
      "execution_count": 72,
      "outputs": [
        {
          "output_type": "display_data",
          "data": {
            "image/png": "[encoded data removed]",
            "text/plain": [
              "<Figure size 432x288 with 2 Axes>"
            ]
          },
          "metadata": {
            "tags": [],
            "needs_background": "light"
          }
        },
        {
          "output_type": "stream",
          "text": [
            "              precision    recall  f1-score   support\n",
            "\n",
            "           0       0.83      0.59      0.69        32\n",
            "           1       0.64      0.85      0.73        27\n",
            "\n",
            "    accuracy                           0.71        59\n",
            "   macro avg       0.73      0.72      0.71        59\n",
            "weighted avg       0.74      0.71      0.71        59\n",
            "\n"
          ],
          "name": "stdout"
        },
        {
          "output_type": "execute_result",
          "data": {
            "text/plain": [
              "0.8518518518518519"
            ]
          },
          "metadata": {
            "tags": []
          },
          "execution_count": 72
        }
      ]
    },
    {
      "cell_type": "markdown",
      "metadata": {
        "id": "dBpDWLFgrlGj"
      },
      "source": [
        "## Gradient Boosting"
      ]
    },
    {
      "cell_type": "code",
      "metadata": {
        "colab": {
          "base_uri": "https://localhost:8080/",
          "height": 441
        },
        "id": "FS1mLvNUrobM",
        "outputId": "a1b408e9-3318-4176-9408-5c14eb18ef76"
      },
      "source": [
        "GBclf = GradientBoostingClassifier(n_estimators=200)\r\n",
        "GBclf.fit(x_train, y_train)\r\n",
        "y_pred = GBclf.predict(x_test)\r\n",
        "printCM(y_test,y_pred)\r\n",
        "print(classification_report(y_test,y_pred))\r\n",
        "recall_score(y_test,y_pred, pos_label='1')"
      ],
      "execution_count": 73,
      "outputs": [
        {
          "output_type": "display_data",
          "data": {
            "image/png": "[encoded data removed]",
            "text/plain": [
              "<Figure size 432x288 with 2 Axes>"
            ]
          },
          "metadata": {
            "tags": [],
            "needs_background": "light"
          }
        },
        {
          "output_type": "stream",
          "text": [
            "              precision    recall  f1-score   support\n",
            "\n",
            "           0       0.93      0.84      0.89        32\n",
            "           1       0.83      0.93      0.88        27\n",
            "\n",
            "    accuracy                           0.88        59\n",
            "   macro avg       0.88      0.88      0.88        59\n",
            "weighted avg       0.89      0.88      0.88        59\n",
            "\n"
          ],
          "name": "stdout"
        },
        {
          "output_type": "execute_result",
          "data": {
            "text/plain": [
              "0.9259259259259259"
            ]
          },
          "metadata": {
            "tags": []
          },
          "execution_count": 73
        }
      ]
    },
    {
      "cell_type": "markdown",
      "metadata": {
        "id": "Tr8fad_3rvvD"
      },
      "source": [
        "## XG Boost"
      ]
    },
    {
      "cell_type": "code",
      "metadata": {
        "colab": {
          "base_uri": "https://localhost:8080/",
          "height": 441
        },
        "id": "siXkyC2kry_H",
        "outputId": "9f9eae47-145a-46c1-896c-ed56c1ba61a8"
      },
      "source": [
        "from xgboost import XGBClassifier\r\n",
        "XGB_clf = XGBClassifier()\r\n",
        "XGB_clf.fit(x_train, y_train)\r\n",
        "y_pred = XGB_clf.predict(x_test)\r\n",
        "printCM(y_test,y_pred)\r\n",
        "print(classification_report(y_test,y_pred))\r\n",
        "recall_score(y_test,y_pred, pos_label='1')"
      ],
      "execution_count": 74,
      "outputs": [
        {
          "output_type": "display_data",
          "data": {
            "image/png": "[encoded data removed]",
            "text/plain": [
              "<Figure size 432x288 with 2 Axes>"
            ]
          },
          "metadata": {
            "tags": [],
            "needs_background": "light"
          }
        },
        {
          "output_type": "stream",
          "text": [
            "              precision    recall  f1-score   support\n",
            "\n",
            "           0       0.90      0.84      0.87        32\n",
            "           1       0.83      0.89      0.86        27\n",
            "\n",
            "    accuracy                           0.86        59\n",
            "   macro avg       0.86      0.87      0.86        59\n",
            "weighted avg       0.87      0.86      0.86        59\n",
            "\n"
          ],
          "name": "stdout"
        },
        {
          "output_type": "execute_result",
          "data": {
            "text/plain": [
              "0.8888888888888888"
            ]
          },
          "metadata": {
            "tags": []
          },
          "execution_count": 74
        }
      ]
    },
    {
      "cell_type": "markdown",
      "metadata": {
        "id": "Jr1hKWYpyjqX"
      },
      "source": [
        "## LGM"
      ]
    },
    {
      "cell_type": "code",
      "metadata": {
        "colab": {
          "base_uri": "https://localhost:8080/",
          "height": 441
        },
        "id": "20uoZvXHylbu",
        "outputId": "b6111852-778e-4c89-c5f9-6284d1ca0eea"
      },
      "source": [
        "import lightgbm as lgb\r\n",
        "lgm = lgb.LGBMClassifier()\r\n",
        "lgm.fit(x_train, y_train)\r\n",
        "y_pred = lgm.predict(x_test)\r\n",
        "printCM(y_test,y_pred)\r\n",
        "print(classification_report(y_test,y_pred))\r\n",
        "recall_score(y_test,y_pred, pos_label='1')"
      ],
      "execution_count": 75,
      "outputs": [
        {
          "output_type": "display_data",
          "data": {
            "image/png": "[encoded data removed]",
            "text/plain": [
              "<Figure size 432x288 with 2 Axes>"
            ]
          },
          "metadata": {
            "tags": [],
            "needs_background": "light"
          }
        },
        {
          "output_type": "stream",
          "text": [
            "              precision    recall  f1-score   support\n",
            "\n",
            "           0       0.79      0.81      0.80        32\n",
            "           1       0.77      0.74      0.75        27\n",
            "\n",
            "    accuracy                           0.78        59\n",
            "   macro avg       0.78      0.78      0.78        59\n",
            "weighted avg       0.78      0.78      0.78        59\n",
            "\n"
          ],
          "name": "stdout"
        },
        {
          "output_type": "execute_result",
          "data": {
            "text/plain": [
              "0.7407407407407407"
            ]
          },
          "metadata": {
            "tags": []
          },
          "execution_count": 75
        }
      ]
    },
    {
      "cell_type": "markdown",
      "metadata": {
        "id": "4_FN-c6uzL5P"
      },
      "source": [
        "# Conditions for grid search"
      ]
    },
    {
      "cell_type": "code",
      "metadata": {
        "id": "G1HhxFxhzLXu"
      },
      "source": [
        "#Logistic Regrresion\r\n",
        "solvers = ['newton-cg', 'lbfgs', 'liblinear']\r\n",
        "penalty = ['l2']\r\n",
        "c_values = [100, 10, 1.0, 0.1, 0.01]\r\n",
        "lr_grid = dict(solver=solvers,penalty=penalty,C=c_values)\r\n",
        "\r\n",
        "#K-Nearest - Neighborg\r\n",
        "n_neighbors = range(1, 21, 2)\r\n",
        "weights = ['uniform', 'distance']\r\n",
        "metric = ['euclidean', 'manhattan', 'minkowski']\r\n",
        "knn_grid = dict(n_neighbors=n_neighbors,weights=weights,metric=metric)\r\n",
        "\r\n",
        "#Random Forest\r\n",
        "n_estimators = [10, 100, 1000,10000]\r\n",
        "max_features = ['sqrt', 'log2']\r\n",
        "rf_grid = dict(n_estimators=n_estimators,max_features=max_features)\r\n",
        "\r\n",
        "#Support Vector Classifier\r\n",
        "kernel = ['poly', 'rbf', 'sigmoid']\r\n",
        "C = [50, 10, 1.0, 0.1, 0.01]\r\n",
        "gamma = ['scale']\r\n",
        "svc_grid = dict(kernel=kernel,C=C,gamma=gamma)\r\n",
        "\r\n",
        "## Gradient\r\n",
        "n_estimators = [10, 100, 1000]\r\n",
        "learning_rate = [0.001, 0.01, 0.1]\r\n",
        "subsample = [0.5, 0.7, 1.0]\r\n",
        "max_depth = [3, 7, 9]\r\n",
        "gradient_grid = dict(n_estimators = n_estimators , learning_rate = learning_rate , subsample= subsample , max_depth = max_depth)\r\n",
        "\r\n",
        "#LGB\r\n",
        "class_weight = [None,'balanced']\r\n",
        "boosting_type = ['gbdt', 'goss', 'dart']\r\n",
        "num_leaves = [30,50,100,150] #list(range(30, 150)),\r\n",
        "learning_rate = list(np.logspace(np.log(0.005), np.log(0.2), base = np.exp(1), num = 10)) #1000\r\n",
        "lgg_grid = dict(class_weight=class_weight, boosting_type=boosting_type, num_leaves=num_leaves, learning_rate =learning_rate)"
      ],
      "execution_count": null,
      "outputs": []
    }
  ]
}